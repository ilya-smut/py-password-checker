{
 "cells": [
  {
   "cell_type": "code",
   "execution_count": 24,
   "id": "baa86e8f-645e-40b8-8e97-4eacae798d19",
   "metadata": {},
   "outputs": [],
   "source": [
    "from pypasscheck.checker import Checker"
   ]
  },
  {
   "cell_type": "code",
   "execution_count": 25,
   "id": "62c85a4d-10dd-49f4-bcae-56cc831105c0",
   "metadata": {},
   "outputs": [],
   "source": [
    "password = \"SimplePassword\""
   ]
  },
  {
   "cell_type": "code",
   "execution_count": 26,
   "id": "29a02753-da1a-43d2-82a1-a737430afadb",
   "metadata": {},
   "outputs": [
    {
     "data": {
      "text/plain": [
       "False"
      ]
     },
     "execution_count": 26,
     "metadata": {},
     "output_type": "execute_result"
    }
   ],
   "source": [
    "Checker.is_strong(password)"
   ]
  },
  {
   "cell_type": "code",
   "execution_count": 27,
   "id": "1410a063-f6c4-437e-8992-ff78b26fc02e",
   "metadata": {},
   "outputs": [
    {
     "data": {
      "text/plain": [
       "[<Feedback.NO_DIGITS: 3>, <Feedback.NO_SPECIAL_CHAR: 4>]"
      ]
     },
     "execution_count": 27,
     "metadata": {},
     "output_type": "execute_result"
    }
   ],
   "source": [
    "Checker.password_assessment(password)"
   ]
  },
  {
   "cell_type": "code",
   "execution_count": 28,
   "id": "9f5b33d5-d988-4ea6-b0a5-4c31d5df6fb1",
   "metadata": {},
   "outputs": [
    {
     "name": "stdout",
     "output_type": "stream",
     "text": [
      "Example of logic. No digits detected\n"
     ]
    }
   ],
   "source": [
    "if Checker.Feedback.NO_DIGITS in Checker.password_assessment(password):\n",
    "    print(\"Example of logic. No digits detected\")"
   ]
  },
  {
   "cell_type": "code",
   "execution_count": 29,
   "id": "84d9d2a8-bdf2-4566-921c-ab69e35f20af",
   "metadata": {},
   "outputs": [],
   "source": [
    "password = \"NotSoSimplePassword!!!\""
   ]
  },
  {
   "cell_type": "code",
   "execution_count": 30,
   "id": "4fea1028-85dd-4314-a230-b63cee995043",
   "metadata": {},
   "outputs": [
    {
     "data": {
      "text/plain": [
       "False"
      ]
     },
     "execution_count": 30,
     "metadata": {},
     "output_type": "execute_result"
    }
   ],
   "source": [
    "Checker.is_strong(password)"
   ]
  },
  {
   "cell_type": "code",
   "execution_count": 31,
   "id": "3349b42c-1b96-42eb-a8d5-7c2cda692dfc",
   "metadata": {},
   "outputs": [
    {
     "data": {
      "text/plain": [
       "[<Feedback.NO_DIGITS: 3>]"
      ]
     },
     "execution_count": 31,
     "metadata": {},
     "output_type": "execute_result"
    }
   ],
   "source": [
    "Checker.password_assessment(password)"
   ]
  },
  {
   "cell_type": "code",
   "execution_count": 32,
   "id": "2aaaf558-9ba8-43b4-8d97-c772af7068e8",
   "metadata": {},
   "outputs": [],
   "source": [
    "password = \"IhaveDIGITSnow12!!\""
   ]
  },
  {
   "cell_type": "code",
   "execution_count": 33,
   "id": "063acd59-a181-4570-8095-a3d55ff5e3a7",
   "metadata": {},
   "outputs": [
    {
     "data": {
      "text/plain": [
       "[<Feedback.STRONG_ENOUGH: 1>]"
      ]
     },
     "execution_count": 33,
     "metadata": {},
     "output_type": "execute_result"
    }
   ],
   "source": [
    "Checker.password_assessment(password)"
   ]
  },
  {
   "cell_type": "code",
   "execution_count": 34,
   "id": "3bce1bae-63cd-47e3-8168-f9a1ef7ee111",
   "metadata": {},
   "outputs": [
    {
     "data": {
      "text/plain": [
       "True"
      ]
     },
     "execution_count": 34,
     "metadata": {},
     "output_type": "execute_result"
    }
   ],
   "source": [
    "Checker.is_strong(password)"
   ]
  }
 ],
 "metadata": {
  "kernelspec": {
   "display_name": ".venv",
   "language": "python",
   "name": "python3"
  },
  "language_info": {
   "codemirror_mode": {
    "name": "ipython",
    "version": 3
   },
   "file_extension": ".py",
   "mimetype": "text/x-python",
   "name": "python",
   "nbconvert_exporter": "python",
   "pygments_lexer": "ipython3",
   "version": "3.10.12"
  }
 },
 "nbformat": 4,
 "nbformat_minor": 5
}
